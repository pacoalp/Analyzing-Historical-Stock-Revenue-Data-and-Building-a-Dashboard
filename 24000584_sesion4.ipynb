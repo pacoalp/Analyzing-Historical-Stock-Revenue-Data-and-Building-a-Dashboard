{
 "cells": [
  {
   "cell_type": "markdown",
   "id": "460d2feb-05f1-4e0e-8825-034a931d2b0d",
   "metadata": {
    "tags": []
   },
   "source": [
    "# Sesion 4\n",
    "\n"
   ]
  },
  {
   "cell_type": "markdown",
   "id": "4066c245-6ca6-42f5-ba88-44773bc02971",
   "metadata": {},
   "source": [
    "# 1 Reshape"
   ]
  },
  {
   "cell_type": "code",
   "execution_count": 2,
   "id": "ea90dceb-9cff-4bd7-a802-be71c53c00cb",
   "metadata": {
    "tags": []
   },
   "outputs": [],
   "source": [
    "import numpy as np\n",
    "from time import time"
   ]
  },
  {
   "cell_type": "code",
   "execution_count": 3,
   "id": "1d46799c-e7a6-4825-b119-ac1ff862fadb",
   "metadata": {
    "tags": []
   },
   "outputs": [],
   "source": [
    "x = np.arange(1,11,1)"
   ]
  },
  {
   "cell_type": "code",
   "execution_count": 4,
   "id": "adfe179b-df27-4cef-ba4b-d948cbbc929b",
   "metadata": {
    "tags": []
   },
   "outputs": [
    {
     "data": {
      "text/plain": [
       "array([ 1,  2,  3,  4,  5,  6,  7,  8,  9, 10])"
      ]
     },
     "execution_count": 4,
     "metadata": {},
     "output_type": "execute_result"
    }
   ],
   "source": [
    "x"
   ]
  },
  {
   "cell_type": "code",
   "execution_count": 5,
   "id": "1d30dc3f-c4be-4d84-8ce3-100067e10401",
   "metadata": {
    "tags": []
   },
   "outputs": [
    {
     "data": {
      "text/plain": [
       "(10,)"
      ]
     },
     "execution_count": 5,
     "metadata": {},
     "output_type": "execute_result"
    }
   ],
   "source": [
    "x.shape"
   ]
  },
  {
   "cell_type": "code",
   "execution_count": 6,
   "id": "32fc5ad9-45aa-4212-a5bf-2d933103a3d8",
   "metadata": {
    "tags": []
   },
   "outputs": [
    {
     "data": {
      "text/plain": [
       "array([[ 1,  2,  3,  4,  5],\n",
       "       [ 6,  7,  8,  9, 10]])"
      ]
     },
     "execution_count": 6,
     "metadata": {},
     "output_type": "execute_result"
    }
   ],
   "source": [
    "np.reshape(x, (2,5))"
   ]
  },
  {
   "cell_type": "code",
   "execution_count": 7,
   "id": "1c10ebd9-d9c1-4acb-9a50-7b59417c9949",
   "metadata": {
    "tags": []
   },
   "outputs": [
    {
     "data": {
      "text/plain": [
       "array([[ 1,  2],\n",
       "       [ 3,  4],\n",
       "       [ 5,  6],\n",
       "       [ 7,  8],\n",
       "       [ 9, 10]])"
      ]
     },
     "execution_count": 7,
     "metadata": {},
     "output_type": "execute_result"
    }
   ],
   "source": [
    "np.reshape(x, (5,2))"
   ]
  },
  {
   "cell_type": "code",
   "execution_count": 8,
   "id": "94616d56-3420-4f9c-9416-b7c826a254ce",
   "metadata": {
    "tags": []
   },
   "outputs": [
    {
     "data": {
      "text/plain": [
       "array([[ 1],\n",
       "       [ 2],\n",
       "       [ 3],\n",
       "       [ 4],\n",
       "       [ 5],\n",
       "       [ 6],\n",
       "       [ 7],\n",
       "       [ 8],\n",
       "       [ 9],\n",
       "       [10]])"
      ]
     },
     "execution_count": 8,
     "metadata": {},
     "output_type": "execute_result"
    }
   ],
   "source": [
    "np.reshape(x, (10,1))"
   ]
  },
  {
   "cell_type": "code",
   "execution_count": 9,
   "id": "6f49c85b-8988-4b5c-8c3a-5852d1de5f45",
   "metadata": {
    "tags": []
   },
   "outputs": [
    {
     "data": {
      "text/plain": [
       "array([[ 1],\n",
       "       [ 2],\n",
       "       [ 3],\n",
       "       [ 4],\n",
       "       [ 5],\n",
       "       [ 6],\n",
       "       [ 7],\n",
       "       [ 8],\n",
       "       [ 9],\n",
       "       [10]])"
      ]
     },
     "execution_count": 9,
     "metadata": {},
     "output_type": "execute_result"
    }
   ],
   "source": [
    "np.reshape(x, (-1,1))"
   ]
  },
  {
   "cell_type": "code",
   "execution_count": 10,
   "id": "8a33e37f-7afd-4992-a63e-feecc95d6149",
   "metadata": {
    "tags": []
   },
   "outputs": [
    {
     "data": {
      "text/plain": [
       "array([[ 1,  2,  3,  4,  5,  6,  7,  8,  9, 10]])"
      ]
     },
     "execution_count": 10,
     "metadata": {},
     "output_type": "execute_result"
    }
   ],
   "source": [
    "np.reshape(x, (1,10))"
   ]
  },
  {
   "cell_type": "code",
   "execution_count": 11,
   "id": "efef1c2a-e94b-4eb1-b252-904a49e80247",
   "metadata": {
    "tags": []
   },
   "outputs": [
    {
     "data": {
      "text/plain": [
       "array([ 1,  2,  3,  4,  5,  6,  7,  8,  9, 10])"
      ]
     },
     "execution_count": 11,
     "metadata": {},
     "output_type": "execute_result"
    }
   ],
   "source": [
    "x"
   ]
  },
  {
   "cell_type": "markdown",
   "id": "89b10f29-8a4a-4ab1-a983-9c388b20461f",
   "metadata": {},
   "source": [
    "# 2. Performance"
   ]
  },
  {
   "cell_type": "code",
   "execution_count": 12,
   "id": "0f2e1d59-1ea7-4c28-8476-4ffbb44adeba",
   "metadata": {
    "tags": []
   },
   "outputs": [],
   "source": [
    "x = np.linspace(1, 10000000, 20000000) \n",
    "b0 = 5\n",
    "b1 = 2"
   ]
  },
  {
   "cell_type": "code",
   "execution_count": 13,
   "id": "9c1fcb83-bf3d-40fb-b031-10fc29495108",
   "metadata": {
    "tags": []
   },
   "outputs": [],
   "source": [
    "y = np.empty_like(x)\n",
    "\n",
    "inicio = time()\n",
    "for index, value in enumerate(x):\n",
    "    y[index] = b0 + b1*value\n",
    "fin = time()\n"
   ]
  },
  {
   "cell_type": "code",
   "execution_count": 14,
   "id": "a6b834c9-03d9-475e-9995-bdbc2f66cdaa",
   "metadata": {
    "tags": []
   },
   "outputs": [
    {
     "name": "stdout",
     "output_type": "stream",
     "text": [
      "El tiempo total es:  17.617624044418335\n"
     ]
    }
   ],
   "source": [
    "print(\"El tiempo total es: \", fin - inicio)"
   ]
  },
  {
   "cell_type": "code",
   "execution_count": 15,
   "id": "4b55336f-79c3-40c4-a86c-3d6b020ff8fd",
   "metadata": {
    "tags": []
   },
   "outputs": [
    {
     "data": {
      "text/plain": [
       "array([1, 2, 3, 4, 5])"
      ]
     },
     "execution_count": 15,
     "metadata": {},
     "output_type": "execute_result"
    }
   ],
   "source": [
    "x = np.arange(1,6,1)\n",
    "x"
   ]
  },
  {
   "cell_type": "code",
   "execution_count": 16,
   "id": "33180dd0-dfa7-4d2d-8cff-c7efff69db18",
   "metadata": {},
   "outputs": [],
   "source": [
    "# se usará en el proyecto, calcular el error y - y estimado"
   ]
  },
  {
   "cell_type": "code",
   "execution_count": 17,
   "id": "9c0527c2-eb02-4945-81be-61154813ca68",
   "metadata": {
    "tags": []
   },
   "outputs": [
    {
     "data": {
      "text/plain": [
       "array([[1, 1],\n",
       "       [1, 2],\n",
       "       [1, 3],\n",
       "       [1, 4],\n",
       "       [1, 5]])"
      ]
     },
     "execution_count": 17,
     "metadata": {},
     "output_type": "execute_result"
    }
   ],
   "source": [
    "vect1 = np.ones_like(x).reshape((-1,1))\n",
    "x_stack = x.reshape((-1,1))\n",
    "A = np.hstack([vect1,x_stack])\n",
    "A"
   ]
  },
  {
   "cell_type": "code",
   "execution_count": 18,
   "id": "0a81e0f3-9ffe-4371-a565-15394d5357a1",
   "metadata": {
    "tags": []
   },
   "outputs": [
    {
     "name": "stdout",
     "output_type": "stream",
     "text": [
      "El tiempo es;  0.011182546615600586\n"
     ]
    }
   ],
   "source": [
    "betas = np.array([[b0], [b1]])\n",
    "\n",
    "inicio = time()\n",
    "y1 = np.matmul(A, betas)\n",
    "fin = time()\n",
    "\n",
    "print(\"El tiempo es; \", fin - inicio)"
   ]
  },
  {
   "cell_type": "code",
   "execution_count": 19,
   "id": "30ee0f03-d3ee-4b44-8df3-9d5d48819f58",
   "metadata": {},
   "outputs": [],
   "source": [
    "# hasta aquí"
   ]
  },
  {
   "cell_type": "markdown",
   "id": "6215e40b-dc66-4ea6-be22-8583a142b1a3",
   "metadata": {},
   "source": [
    "# 3. Pandas - (Panel Data)"
   ]
  },
  {
   "cell_type": "code",
   "execution_count": null,
   "id": "00478425-f98c-46ff-85e4-cbc22a88e11e",
   "metadata": {
    "tags": []
   },
   "outputs": [],
   "source": [
    "import numpy as np\n",
    "import pandas as pd\n"
   ]
  },
  {
   "cell_type": "code",
   "execution_count": null,
   "id": "180d7303-01af-4b13-9d7f-e9c451f4337e",
   "metadata": {
    "tags": []
   },
   "outputs": [],
   "source": [
    "data = np.random.rand(10)\n",
    "data"
   ]
  },
  {
   "cell_type": "code",
   "execution_count": null,
   "id": "457331d8-6893-4a06-bf30-52879ac3089e",
   "metadata": {
    "tags": []
   },
   "outputs": [],
   "source": [
    "# El data Frame es un conjunto de columnas de series\n",
    "pd.Series(np.random.rand(10))"
   ]
  },
  {
   "cell_type": "code",
   "execution_count": null,
   "id": "77b650f3-3bc7-4948-af56-f83f68a7f036",
   "metadata": {
    "tags": []
   },
   "outputs": [],
   "source": [
    "pd.Series(data, index=np.arange(10, 110, 10))"
   ]
  },
  {
   "cell_type": "code",
   "execution_count": null,
   "id": "c4cf977c-9bcc-4dba-9e82-9d2384629d47",
   "metadata": {
    "tags": []
   },
   "outputs": [],
   "source": [
    "diccionario = {'A':30,'B':60, 'C':'Hola', 'D':np.exp(5)}\n",
    "diccionario"
   ]
  },
  {
   "cell_type": "code",
   "execution_count": null,
   "id": "9688f6e3-7065-422a-8da6-e1b7b7dedcfe",
   "metadata": {
    "tags": []
   },
   "outputs": [],
   "source": [
    "pd.Series(diccionario)"
   ]
  },
  {
   "cell_type": "code",
   "execution_count": null,
   "id": "32fd14f7-9def-43d1-a5f6-e9a94cf46b30",
   "metadata": {
    "tags": []
   },
   "outputs": [],
   "source": [
    "d = { 'columnaA': [10, 20, 30, 40],\n",
    "         'columnaB': pd.Series(['abc', 10.5, 34, 'xy']),\n",
    "         'columnaC': pd.Series([10.45, 89.34, 90.76, 24.89])\n",
    "     }"
   ]
  },
  {
   "cell_type": "code",
   "execution_count": null,
   "id": "a6c06046-fd40-45fc-a575-e840c4949fe2",
   "metadata": {
    "tags": []
   },
   "outputs": [],
   "source": [
    "df1 = pd.DataFrame(d)"
   ]
  },
  {
   "cell_type": "code",
   "execution_count": null,
   "id": "dfbf6821-62f5-4119-a37a-850fc5685331",
   "metadata": {
    "tags": []
   },
   "outputs": [],
   "source": [
    "df1"
   ]
  },
  {
   "cell_type": "code",
   "execution_count": null,
   "id": "f5ede1e2-4264-4182-8541-492789c76927",
   "metadata": {
    "tags": []
   },
   "outputs": [],
   "source": [
    "type(df1['columnaB'])"
   ]
  },
  {
   "cell_type": "code",
   "execution_count": null,
   "id": "a4ca921d-f457-423b-ac23-383eaffbcf03",
   "metadata": {
    "tags": []
   },
   "outputs": [],
   "source": [
    "df1[['columnaA','columnaC']]"
   ]
  },
  {
   "cell_type": "code",
   "execution_count": null,
   "id": "a3ce0c18-58da-4cd0-bde8-6fe2e89c6838",
   "metadata": {
    "tags": []
   },
   "outputs": [],
   "source": [
    "df1[['columnaC','columnaA']]"
   ]
  },
  {
   "cell_type": "code",
   "execution_count": null,
   "id": "6d922e85-dbb1-428c-9f11-89bf016f416d",
   "metadata": {
    "tags": []
   },
   "outputs": [],
   "source": [
    "#extraemos información en base al nombre de la fila(index) y la columna\n",
    "df1.loc[[0,1,3],['columnaC', 'columnaA']]"
   ]
  },
  {
   "cell_type": "code",
   "execution_count": null,
   "id": "bd0d2108-2e6d-4c79-bb1c-5a1dca9393dd",
   "metadata": {
    "tags": []
   },
   "outputs": [],
   "source": [
    "#extraemos información en base al nombre de la fila(index) y la columna\n",
    "df1.iloc[[0,1,3],[2,0]]"
   ]
  },
  {
   "cell_type": "code",
   "execution_count": null,
   "id": "4969a75a-818c-41b7-81de-19c79677e8db",
   "metadata": {
    "tags": []
   },
   "outputs": [],
   "source": [
    "#nueva columna\n",
    "df1['nueva']= df1['columnaA'] + df1['columnaC']\n",
    "df1"
   ]
  },
  {
   "cell_type": "code",
   "execution_count": null,
   "id": "6d62e621-3310-49ba-8d88-0bd824fc2358",
   "metadata": {},
   "outputs": [],
   "source": [
    "#eliminar filas/columnas drop(indice/columna, axis (0 fila, columna 1))\n",
    "#drop.nan\n",
    "df1.drop(0, axis=0)"
   ]
  },
  {
   "cell_type": "code",
   "execution_count": null,
   "id": "5264ae21-2d8e-471e-8ecb-41003fceea41",
   "metadata": {},
   "outputs": [],
   "source": [
    "\"\"\"\n",
    "    afecta la original\n",
    "    inplace = True --> modifica la variable original con la\n",
    "    operación aplicada\n",
    "\"\"\"\n",
    "df1.drop(0, axis=0, inplace = True)"
   ]
  },
  {
   "cell_type": "markdown",
   "id": "7129955f-c550-4228-8079-b24a84a5014d",
   "metadata": {},
   "source": [
    "# 3.1 Filtros"
   ]
  },
  {
   "cell_type": "code",
   "execution_count": null,
   "id": "f72a60c6-e1e2-4761-8456-9f5606e4853d",
   "metadata": {
    "tags": []
   },
   "outputs": [],
   "source": [
    "df2 = pd.DataFrame({\n",
    "    'A': np.random.randint(1, 20, size=10),\n",
    "    'B': np.random.randint(1, 20, size=10)\n",
    "})\n",
    "\n",
    "df2"
   ]
  },
  {
   "cell_type": "code",
   "execution_count": null,
   "id": "4f32894a-8232-4a47-8050-13d788441160",
   "metadata": {
    "tags": []
   },
   "outputs": [],
   "source": [
    "df2[df2['A'] > 10]\n"
   ]
  },
  {
   "cell_type": "code",
   "execution_count": null,
   "id": "3d91ce72-78bc-4c6c-9653-d120c14df9a6",
   "metadata": {
    "tags": []
   },
   "outputs": [],
   "source": [
    "df2['A'] >10"
   ]
  },
  {
   "cell_type": "code",
   "execution_count": null,
   "id": "adb9463f-e3fa-4b75-b721-9941f732dbec",
   "metadata": {
    "tags": []
   },
   "outputs": [],
   "source": [
    "df2[(df2['A'] > 7) & (df2['B'] < 10)]"
   ]
  },
  {
   "cell_type": "code",
   "execution_count": null,
   "id": "c4c85f2e-a0b8-4752-83dd-9142441f5901",
   "metadata": {
    "tags": []
   },
   "outputs": [],
   "source": [
    "df1.loc[:,['columnaB']]"
   ]
  },
  {
   "cell_type": "code",
   "execution_count": null,
   "id": "f5d7be2b-ba2a-4197-92db-51293753be59",
   "metadata": {
    "tags": []
   },
   "outputs": [],
   "source": [
    "df1.loc[[0,2],['columnaB']]"
   ]
  },
  {
   "cell_type": "markdown",
   "id": "6b68fe63-0429-44d8-9e8d-10120c3696fd",
   "metadata": {},
   "source": [
    "# 3.2 Operaciones de Agregación"
   ]
  },
  {
   "cell_type": "code",
   "execution_count": null,
   "id": "be64935e-ea63-431c-8e49-d302bb69406e",
   "metadata": {
    "tags": []
   },
   "outputs": [],
   "source": [
    "df = pd.DataFrame({'col1': [10,20,30,40,50,60], \n",
    "                   'col2':[1,2,3,4,5,6], \n",
    "                   'col3':['A', 'B', 'C', 'D', 'A', 'F']})\n",
    "\n",
    "df"
   ]
  },
  {
   "cell_type": "code",
   "execution_count": null,
   "id": "ac972bf9-1dd5-4035-8a3f-7514b9171203",
   "metadata": {
    "tags": []
   },
   "outputs": [],
   "source": [
    "df['col1'].sum()"
   ]
  },
  {
   "cell_type": "code",
   "execution_count": null,
   "id": "8e552654-fecd-4b2c-ae75-0771679eba20",
   "metadata": {
    "tags": []
   },
   "outputs": [],
   "source": [
    "#axis = 0  - operación sobre columnas\n",
    "#axis = 1  - operación sobre fila (indices)\n",
    "df[['col1','col2']].sum(axis=1)"
   ]
  },
  {
   "cell_type": "code",
   "execution_count": null,
   "id": "3830a531-248a-4b60-a94b-f55afa9ede52",
   "metadata": {
    "tags": []
   },
   "outputs": [],
   "source": [
    "df[['col1','col2']].sum(axis=0)"
   ]
  },
  {
   "cell_type": "code",
   "execution_count": null,
   "id": "2de233ba-b0ed-47ee-b3ca-652c56c0edc6",
   "metadata": {
    "tags": []
   },
   "outputs": [],
   "source": [
    "#cuenta cantidad de valores, mas de uno si se repite\n",
    "df['col3'].value_counts()"
   ]
  },
  {
   "cell_type": "code",
   "execution_count": null,
   "id": "41ab0204-8bdc-4449-a720-043f4e8c94de",
   "metadata": {
    "tags": []
   },
   "outputs": [],
   "source": [
    "#Cuenta cantidad de filas en la columna\n",
    "df['col2'].count()"
   ]
  },
  {
   "cell_type": "code",
   "execution_count": null,
   "id": "7970f2b7-a6af-408c-9970-a8eac1dbed28",
   "metadata": {
    "tags": []
   },
   "outputs": [],
   "source": [
    "#devuelve el arreglo con nombres de columnas\n",
    "df['col2'].values"
   ]
  },
  {
   "cell_type": "code",
   "execution_count": null,
   "id": "fde365e3-e300-4d4d-9054-ced5ea1ff361",
   "metadata": {
    "tags": []
   },
   "outputs": [],
   "source": [
    "dataset = pd.read_csv(\"hotel_bookings.csv\")\n",
    "dataset.head()"
   ]
  },
  {
   "cell_type": "code",
   "execution_count": null,
   "id": "421d639b-9bc3-4c4b-949d-68d59ad11cf5",
   "metadata": {
    "tags": []
   },
   "outputs": [],
   "source": [
    "dataset.shape"
   ]
  },
  {
   "cell_type": "code",
   "execution_count": null,
   "id": "d5151486-2a8b-4ba5-b9f7-f2a47ba9c18d",
   "metadata": {
    "tags": []
   },
   "outputs": [],
   "source": [
    "dataset.dtypes"
   ]
  },
  {
   "cell_type": "code",
   "execution_count": null,
   "id": "1878de06-d077-4074-bec2-b7aef802785c",
   "metadata": {
    "tags": []
   },
   "outputs": [],
   "source": [
    "dataset['is_canceled'].value_counts()"
   ]
  },
  {
   "cell_type": "code",
   "execution_count": null,
   "id": "bc66e503-a9b1-499c-89ab-fda3e92481e8",
   "metadata": {
    "tags": []
   },
   "outputs": [],
   "source": [
    "dataset['lead_time'].value_counts()"
   ]
  }
 ],
 "metadata": {
  "kernelspec": {
   "display_name": "Python 3 (ipykernel)",
   "language": "python",
   "name": "python3"
  },
  "language_info": {
   "codemirror_mode": {
    "name": "ipython",
    "version": 3
   },
   "file_extension": ".py",
   "mimetype": "text/x-python",
   "name": "python",
   "nbconvert_exporter": "python",
   "pygments_lexer": "ipython3",
   "version": "3.11.5"
  }
 },
 "nbformat": 4,
 "nbformat_minor": 5
}
